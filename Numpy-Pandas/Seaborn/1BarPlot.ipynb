{
 "cells": [
  {
   "cell_type": "code",
   "execution_count": 17,
   "id": "06c976b6",
   "metadata": {},
   "outputs": [
    {
     "ename": "SyntaxError",
     "evalue": "keyword argument repeated: color (Temp/ipykernel_11684/1520388712.py, line 12)",
     "output_type": "error",
     "traceback": [
      "\u001b[1;36m  File \u001b[1;32m\"C:\\Users\\91807\\AppData\\Local\\Temp/ipykernel_11684/1520388712.py\"\u001b[1;36m, line \u001b[1;32m12\u001b[0m\n\u001b[1;33m    sns.barplot(x = \"sex\", y = \"survived\", data = titanic_dataset,color='green',color='blue')\u001b[0m\n\u001b[1;37m                                                                                ^\u001b[0m\n\u001b[1;31mSyntaxError\u001b[0m\u001b[1;31m:\u001b[0m keyword argument repeated: color\n"
     ]
    }
   ],
   "source": [
    "# Write a program to draw bar plot of sex against survived for a dataset given in the url\n",
    "\n",
    "import matplotlib.pyplot as plt\n",
    "import seaborn as sns\n",
    "\n",
    "# Set Seaborn style\n",
    "sns.set_style('darkgrid')\n",
    "# Import Data\n",
    "titanic_dataset = sns.load_dataset(\"titanic\")\n",
    "\n",
    "# Construct plot\n",
    "sns.barplot(x = \"sex\", y = \"survived\", data = titanic_dataset)\n",
    "plt.show()"
   ]
  },
  {
   "cell_type": "code",
   "execution_count": null,
   "id": "15f2443c",
   "metadata": {},
   "outputs": [],
   "source": []
  }
 ],
 "metadata": {
  "kernelspec": {
   "display_name": "Python 3 (ipykernel)",
   "language": "python",
   "name": "python3"
  },
  "language_info": {
   "codemirror_mode": {
    "name": "ipython",
    "version": 3
   },
   "file_extension": ".py",
   "mimetype": "text/x-python",
   "name": "python",
   "nbconvert_exporter": "python",
   "pygments_lexer": "ipython3",
   "version": "3.10.0"
  }
 },
 "nbformat": 4,
 "nbformat_minor": 5
}

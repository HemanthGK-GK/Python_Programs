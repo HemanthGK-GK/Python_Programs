{
 "cells": [
  {
   "cell_type": "code",
   "execution_count": 4,
   "id": "ff4d0e1d",
   "metadata": {},
   "outputs": [
    {
     "name": "stdout",
     "output_type": "stream",
     "text": [
      "0.15865525393145719\n"
     ]
    }
   ],
   "source": [
    "# A radar unit is used to measure speeds of cars on a motorway. The speeds are\n",
    "# normally distributed with a mean of 90 km/hr and a standard deviation of 10 km/hr. Write a\n",
    "# program to find the probability that a car picked at random is travelling at more than 100 km/hr?\n",
    "\n",
    "from statistics import NormalDist\n",
    "std=NormalDist(90,10)\n",
    "greaterthan100=1-std.cdf(100)\n",
    "print(greaterthan100)"
   ]
  }
 ],
 "metadata": {
  "kernelspec": {
   "display_name": "Python 3 (ipykernel)",
   "language": "python",
   "name": "python3"
  },
  "language_info": {
   "codemirror_mode": {
    "name": "ipython",
    "version": 3
   },
   "file_extension": ".py",
   "mimetype": "text/x-python",
   "name": "python",
   "nbconvert_exporter": "python",
   "pygments_lexer": "ipython3",
   "version": "3.10.0"
  }
 },
 "nbformat": 4,
 "nbformat_minor": 5
}

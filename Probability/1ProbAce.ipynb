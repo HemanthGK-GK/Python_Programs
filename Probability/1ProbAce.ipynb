{
 "cells": [
  {
   "cell_type": "code",
   "execution_count": 2,
   "id": "706209b9",
   "metadata": {},
   "outputs": [
    {
     "name": "stdout",
     "output_type": "stream",
     "text": [
      "probalilty of 'Ace' : \n",
      "0.07692307692307693\n"
     ]
    }
   ],
   "source": [
    "#Write a program to find probability of drawing an ace from pack of cards\n",
    "\n",
    "def aceProb():\n",
    "    totCard=52#total number of card\n",
    "    totAce=4 #total number of ace\n",
    "    print(\"probalilty of 'Ace' : \")\n",
    "    print(totAce/totCard)#finding the probability\n",
    "   \n",
    "    \n",
    "aceProb()#calling function"
   ]
  }
 ],
 "metadata": {
  "kernelspec": {
   "display_name": "Python 3 (ipykernel)",
   "language": "python",
   "name": "python3"
  },
  "language_info": {
   "codemirror_mode": {
    "name": "ipython",
    "version": 3
   },
   "file_extension": ".py",
   "mimetype": "text/x-python",
   "name": "python",
   "nbconvert_exporter": "python",
   "pygments_lexer": "ipython3",
   "version": "3.10.0"
  }
 },
 "nbformat": 4,
 "nbformat_minor": 5
}

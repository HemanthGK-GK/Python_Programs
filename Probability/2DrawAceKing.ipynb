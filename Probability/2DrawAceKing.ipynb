{
 "cells": [
  {
   "cell_type": "code",
   "execution_count": 5,
   "id": "ab4e161b",
   "metadata": {},
   "outputs": [
    {
     "name": "stdout",
     "output_type": "stream",
     "text": [
      "Probalilty of 'King' : \n",
      "0.07692307692307693\n",
      "\n",
      "Probalilty of 'Ace' : \n",
      "0.0784313725490196\n"
     ]
    }
   ],
   "source": [
    "#Write a program to find the probability of drawing an ace after drawing a king on the first draw\n",
    "\n",
    "def probable():\n",
    "    totCard=52#total number of card\n",
    "    totAce=4 #total number of ace\n",
    "    totKing=4 #total number of king\n",
    "    print(\"Probalilty of 'King' : \")\n",
    "    print(totKing/totCard)\n",
    "    totCard -= 1\n",
    "    \n",
    "    print(\"\\nProbalilty of 'Ace' : \")\n",
    "    print(totAce/totCard)#finding the probability of ace\n",
    "   \n",
    "    \n",
    "probable()#calling function"
   ]
  }
 ],
 "metadata": {
  "kernelspec": {
   "display_name": "Python 3 (ipykernel)",
   "language": "python",
   "name": "python3"
  },
  "language_info": {
   "codemirror_mode": {
    "name": "ipython",
    "version": 3
   },
   "file_extension": ".py",
   "mimetype": "text/x-python",
   "name": "python",
   "nbconvert_exporter": "python",
   "pygments_lexer": "ipython3",
   "version": "3.10.0"
  }
 },
 "nbformat": 4,
 "nbformat_minor": 5
}

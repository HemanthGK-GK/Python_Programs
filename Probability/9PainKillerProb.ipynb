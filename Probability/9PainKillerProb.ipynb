{
 "cells": [
  {
   "cell_type": "code",
   "execution_count": 1,
   "id": "95d11845",
   "metadata": {},
   "outputs": [
    {
     "name": "stdout",
     "output_type": "stream",
     "text": [
      "0.035555555555555556\n"
     ]
    }
   ],
   "source": [
    "# In a particular pain clinic, 10% of patients are prescribed narcotic pain killers. Overall,\n",
    "# five percent of the clinic’s patients are addicted to narcotics (including pain killers and illegal\n",
    "# substances). Out of all the people prescribed pain pills, 8% are addicts. If a patient is an addict,\n",
    "# write a program to find the probability that they will be prescribed pain pills?\n",
    "\n",
    "priscribed_painkiller=0.1\n",
    "non_painkiller=0.9\n",
    "addict_painkiller=0.08\n",
    "addict_non_painkiller=0.05\n",
    "\n",
    "total=priscribed_painkiller+addict_painkiller+addict_non_painkiller*non_painkiller\n",
    "probability=(priscribed_painkiller*addict_painkiller)/total\n",
    "\n",
    "print(probability)"
   ]
  }
 ],
 "metadata": {
  "kernelspec": {
   "display_name": "Python 3 (ipykernel)",
   "language": "python",
   "name": "python3"
  },
  "language_info": {
   "codemirror_mode": {
    "name": "ipython",
    "version": 3
   },
   "file_extension": ".py",
   "mimetype": "text/x-python",
   "name": "python",
   "nbconvert_exporter": "python",
   "pygments_lexer": "ipython3",
   "version": "3.10.0"
  }
 },
 "nbformat": 4,
 "nbformat_minor": 5
}

{
 "cells": [
  {
   "cell_type": "code",
   "execution_count": 2,
   "id": "1da29118",
   "metadata": {},
   "outputs": [
    {
     "name": "stdout",
     "output_type": "stream",
     "text": [
      "Total probability :  0.5291319857312723\n"
     ]
    }
   ],
   "source": [
    "# Given the following statistics, write a program to find the probability that a woman has\n",
    "# cancer if she has a positive mammogram result?\n",
    "# a. One percent of women over 50 have breast cancer.\n",
    "# b. Ninety percent of women who have breast cancer test positive on mammograms.\n",
    "# c. Eight percent of women will have false positives.\n",
    "\n",
    "cancer_prob=0.01\n",
    "no_cancer=0.99\n",
    "positive_test=8.9\n",
    "negative_test=0.08\n",
    "\n",
    "total=cancer_prob*positive_test+no_cancer*negative_test #finding total value\n",
    "mammogram_result=(cancer_prob*positive_test)/total#finding probability\n",
    "\n",
    "print(\"Total probability : \",mammogram_result)"
   ]
  }
 ],
 "metadata": {
  "kernelspec": {
   "display_name": "Python 3 (ipykernel)",
   "language": "python",
   "name": "python3"
  },
  "language_info": {
   "codemirror_mode": {
    "name": "ipython",
    "version": 3
   },
   "file_extension": ".py",
   "mimetype": "text/x-python",
   "name": "python",
   "nbconvert_exporter": "python",
   "pygments_lexer": "ipython3",
   "version": "3.10.0"
  }
 },
 "nbformat": 4,
 "nbformat_minor": 5
}

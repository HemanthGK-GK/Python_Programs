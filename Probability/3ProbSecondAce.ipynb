{
 "cells": [
  {
   "cell_type": "code",
   "execution_count": 4,
   "id": "37743a0c",
   "metadata": {},
   "outputs": [
    {
     "name": "stdout",
     "output_type": "stream",
     "text": [
      "Probaility of draw the first Ace : \n",
      "0.07692307692307693\n",
      "\n",
      "Probalilty of draw second 'Ace' : \n",
      "0.058823529411764705\n"
     ]
    }
   ],
   "source": [
    "#Write a program to find the probability of drawing an ace after drawing an ace on the first draw\n",
    "\n",
    "def aceProb():\n",
    "    totCard=52#total number of card\n",
    "    totAce=4 #total number of ace\n",
    "    print(\"Probaility of draw the first Ace : \")\n",
    "    print(totAce/totCard)\n",
    "    totAce -= 1\n",
    "    totCard -=1\n",
    "    print(\"\\nProbalilty of draw second 'Ace' : \")\n",
    "    print(totAce/totCard)#finding the probability of ace\n",
    "   \n",
    "    \n",
    "aceProb()#calling function"
   ]
  }
 ],
 "metadata": {
  "kernelspec": {
   "display_name": "Python 3 (ipykernel)",
   "language": "python",
   "name": "python3"
  },
  "language_info": {
   "codemirror_mode": {
    "name": "ipython",
    "version": 3
   },
   "file_extension": ".py",
   "mimetype": "text/x-python",
   "name": "python",
   "nbconvert_exporter": "python",
   "pygments_lexer": "ipython3",
   "version": "3.10.0"
  }
 },
 "nbformat": 4,
 "nbformat_minor": 5
}

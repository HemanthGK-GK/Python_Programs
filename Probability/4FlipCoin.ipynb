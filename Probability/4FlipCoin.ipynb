{
 "cells": [
  {
   "cell_type": "code",
   "execution_count": 12,
   "id": "af2ae151",
   "metadata": {
    "scrolled": true
   },
   "outputs": [
    {
     "name": "stdout",
     "output_type": "stream",
     "text": [
      "HHH,HHT,HTT,TTH,TTT,THT,THH,THT\n",
      "Probalilty of three heads, HHH : \n",
      "0.125\n"
     ]
    }
   ],
   "source": [
    "# You toss a fair coin three times write a program to find following:\n",
    "# a. What is the probability of three heads, HHH?\n",
    "# b. What is the probability that you observe exactly one heads?\n",
    "# c. Given that you have observed at least one heads, what is the probability\n",
    "# that you observe at least two heads?\n",
    "\n",
    "def probable():\n",
    "    totCombo=8 #total number of combination\n",
    "    print(\"HHH,HHT,HTT,TTH,TTT,THT,THH,THT\")\n",
    "    heads=1 #number of three heads\n",
    "    print(\"Probalilty of three heads, HHH : \")\n",
    "    print(heads/totCombo)\n",
    "      \n",
    "probable()#calling function"
   ]
  },
  {
   "cell_type": "code",
   "execution_count": 20,
   "id": "106ca013",
   "metadata": {},
   "outputs": [
    {
     "name": "stdout",
     "output_type": "stream",
     "text": [
      "HHH,HHT,HTT,TTH,TTT,THT,THH,THT\n",
      "Probalilty of atleast one head : \n",
      "A1 :  0.375\n"
     ]
    }
   ],
   "source": [
    "def probable():\n",
    "    totCombo=8 #total number of combination\n",
    "    print(\"HHH,HHT,HTT,TTH,TTT,THT,THH,THT\")\n",
    "    oneHead=3 #number of one heads\n",
    "    print(\"Probalilty of atleast one head : \")\n",
    "    print(\"A1 : \",oneHead/totCombo)\n",
    "    \n",
    "      \n",
    "probable()"
   ]
  },
  {
   "cell_type": "code",
   "execution_count": 1,
   "id": "c1905d80",
   "metadata": {},
   "outputs": [
    {
     "name": "stdout",
     "output_type": "stream",
     "text": [
      "HHH,HHT,HTT,TTH,TTT,THT,THH,THT\n",
      "Probalilty of atleast one head : \n",
      "0.875\n",
      "Probalilty of atleast two head : \n",
      "0.5\n"
     ]
    }
   ],
   "source": [
    "# def intersection(A1, A2): \n",
    "#     P = [value for value in A1 if value in A2] \n",
    "#     return P\n",
    "\n",
    "def probable():\n",
    "    totCombo=8 #total number of combination\n",
    "    print(\"HHH,HHT,HTT,TTH,TTT,THT,THH,THT\")\n",
    "    oneHead=7 #number of one heads\n",
    "    print(\"Probalilty of atleast one head : \")\n",
    "    A1=oneHead/totCombo\n",
    "    print(A1)\n",
    "    twoHead= 4 #number of one heads\n",
    "    print(\"Probalilty of atleast two head : \")\n",
    "    A2=twoHead/totCombo\n",
    "    print(A2)\n",
    "    \n",
    "      \n",
    "probable()"
   ]
  }
 ],
 "metadata": {
  "kernelspec": {
   "display_name": "Python 3 (ipykernel)",
   "language": "python",
   "name": "python3"
  },
  "language_info": {
   "codemirror_mode": {
    "name": "ipython",
    "version": 3
   },
   "file_extension": ".py",
   "mimetype": "text/x-python",
   "name": "python",
   "nbconvert_exporter": "python",
   "pygments_lexer": "ipython3",
   "version": "3.10.0"
  }
 },
 "nbformat": 4,
 "nbformat_minor": 5
}

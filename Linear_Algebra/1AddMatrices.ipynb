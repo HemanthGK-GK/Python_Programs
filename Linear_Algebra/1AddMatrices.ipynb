{
 "cells": [
  {
   "cell_type": "code",
   "execution_count": 18,
   "id": "7e76ff8b",
   "metadata": {},
   "outputs": [
    {
     "name": "stdout",
     "output_type": "stream",
     "text": [
      "Addition of two Matrices is : \n",
      "[17, 15, 4]\n",
      "[10, 12, 9]\n",
      "[11, 13, 18]\n"
     ]
    }
   ],
   "source": [
    "#Write a python program to add below matrices\n",
    "# X = [[12,7,3],\n",
    "# [4 ,5,6],\n",
    "# [7 ,8,9]]\n",
    "# Y = [[5,8,1],\n",
    "# [6,7,3],\n",
    "# [4,5,9]]\n",
    "\n",
    "X = [[12,7,3],\n",
    "    [4 ,5,6],\n",
    "    [7 ,8,9]]\n",
    "\n",
    "Y = [[5,8,1],\n",
    "    [6,7,3],\n",
    "    [4,5,9]]\n",
    "\n",
    "result =[[0,0,0],\n",
    "        [0,0,0],\n",
    "        [0,0,0]]\n",
    "\n",
    "# iterate through rows\n",
    "for i in range(len(X[0])):\n",
    "   # iterate through columns\n",
    "   for j in range(len(Y[0])):\n",
    "       result[i][j] = X[i][j] + Y[i][j] #Adding matrices\n",
    "\n",
    "print(\"Addition of two Matrices is : \")    \n",
    "for r in result:\n",
    "   print(r)"
   ]
  },
  {
   "cell_type": "code",
   "execution_count": null,
   "id": "1ce493e4",
   "metadata": {},
   "outputs": [],
   "source": []
  }
 ],
 "metadata": {
  "kernelspec": {
   "display_name": "Python 3 (ipykernel)",
   "language": "python",
   "name": "python3"
  },
  "language_info": {
   "codemirror_mode": {
    "name": "ipython",
    "version": 3
   },
   "file_extension": ".py",
   "mimetype": "text/x-python",
   "name": "python",
   "nbconvert_exporter": "python",
   "pygments_lexer": "ipython3",
   "version": "3.10.0"
  }
 },
 "nbformat": 4,
 "nbformat_minor": 5
}

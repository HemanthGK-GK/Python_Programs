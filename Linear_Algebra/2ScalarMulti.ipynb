{
 "cells": [
  {
   "cell_type": "code",
   "execution_count": 11,
   "id": "18ee37a4",
   "metadata": {},
   "outputs": [
    {
     "name": "stdout",
     "output_type": "stream",
     "text": [
      "scalar multiplication of matrix :\n",
      "[108, 63, 27]\n",
      "[36, 45, 54]\n",
      "[63, 72, 81]\n"
     ]
    }
   ],
   "source": [
    "# Write a program to perform scalar multiplication of matrix and a number\n",
    "# X = [[12,7,3],\n",
    "# [4 ,5,6],\n",
    "# [7 ,8,9]]\n",
    "# Y = 9\n",
    "\n",
    "def scalarProductMat( mat, y):\n",
    " \n",
    "    # scalar element is multiplied\n",
    "    # by the matrix\n",
    "    for i in range(len(mat)):\n",
    "        for j in range(len(mat)):\n",
    "            mat[i][j] = mat[i][j] * y #multiply y with matrix\n",
    "    print(\"scalar multiplication of matrix :\")\n",
    "    for r in mat:\n",
    "        print(r)\n",
    " #initialize matrix  \n",
    "mat = [[12,7,3],\n",
    "    [4 ,5,6],\n",
    "    [7 ,8,9]]\n",
    "\n",
    "y=9\n",
    "scalarProductMat(mat, y)#calling method\n",
    "\n"
   ]
  }
 ],
 "metadata": {
  "kernelspec": {
   "display_name": "Python 3 (ipykernel)",
   "language": "python",
   "name": "python3"
  },
  "language_info": {
   "codemirror_mode": {
    "name": "ipython",
    "version": 3
   },
   "file_extension": ".py",
   "mimetype": "text/x-python",
   "name": "python",
   "nbconvert_exporter": "python",
   "pygments_lexer": "ipython3",
   "version": "3.10.0"
  }
 },
 "nbformat": 4,
 "nbformat_minor": 5
}

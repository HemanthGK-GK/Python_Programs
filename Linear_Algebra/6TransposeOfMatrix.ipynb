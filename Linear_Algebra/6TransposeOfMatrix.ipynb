{
 "cells": [
  {
   "cell_type": "code",
   "execution_count": 6,
   "id": "380947ab",
   "metadata": {},
   "outputs": [
    {
     "name": "stdout",
     "output_type": "stream",
     "text": [
      "Transpose of matrix\n",
      "[5, 6, 4]\n",
      "[8, 7, 5]\n",
      "[1, 3, 9]\n"
     ]
    }
   ],
   "source": [
    "#Write a program to find transpose matrix of matrix \n",
    "# y = [[5,8,1],\n",
    "#     [6,7,3],\n",
    "#     [4,5,9]]\n",
    "\n",
    "def transpose(x):\n",
    "    for i in range(len(x)):# iterating by row of x\n",
    "        for j in range(len(x[0])):# iterating by column of x\n",
    "            result[j][i]=x[i][j]\n",
    "\n",
    "y = [[5,8,1],\n",
    "    [6,7,3],\n",
    "    [4,5,9]]\n",
    "\n",
    "result=[[0,0,0],\n",
    "       [0,0,0],\n",
    "       [0,0,0]]\n",
    "transpose(y)#calling function\n",
    "print(\"Transpose of matrix\")\n",
    "for r in result:\n",
    "    print(r)"
   ]
  }
 ],
 "metadata": {
  "kernelspec": {
   "display_name": "Python 3 (ipykernel)",
   "language": "python",
   "name": "python3"
  },
  "language_info": {
   "codemirror_mode": {
    "name": "ipython",
    "version": 3
   },
   "file_extension": ".py",
   "mimetype": "text/x-python",
   "name": "python",
   "nbconvert_exporter": "python",
   "pygments_lexer": "ipython3",
   "version": "3.10.0"
  }
 },
 "nbformat": 4,
 "nbformat_minor": 5
}

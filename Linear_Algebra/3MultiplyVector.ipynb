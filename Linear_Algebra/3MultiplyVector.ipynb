{
 "cells": [
  {
   "cell_type": "code",
   "execution_count": 4,
   "id": "6a8c01ed",
   "metadata": {},
   "outputs": [
    {
     "name": "stdout",
     "output_type": "stream",
     "text": [
      "[10, 9, 8]\n"
     ]
    }
   ],
   "source": [
    "# Write a program to perform multiplication of given matrix and vector\n",
    "# X = [[ 5, 1 ,3], [ 1, 1 ,1], [ 1, 2 ,1]], Y = [1, 2, 3]\n",
    "\n",
    "def multiply(y,x):\n",
    "    result = []\n",
    "    for i in range(len(x[0])): #defines columns of the matrix\n",
    "        total = 0\n",
    "        for j in range(len(y)): #define vector coordinates & rows of matrix\n",
    "            total += y[j] * x[j][i]\n",
    "        result.append(total)\n",
    "    return result\n",
    "\n",
    "x = [[5,1,3],\n",
    "    [1,1,1],\n",
    "    [1,2,1]]\n",
    "y=[1,2,3]\n",
    "print( multiply(y,x))\n"
   ]
  },
  {
   "cell_type": "code",
   "execution_count": null,
   "id": "b249e27a",
   "metadata": {},
   "outputs": [],
   "source": []
  }
 ],
 "metadata": {
  "kernelspec": {
   "display_name": "Python 3 (ipykernel)",
   "language": "python",
   "name": "python3"
  },
  "language_info": {
   "codemirror_mode": {
    "name": "ipython",
    "version": 3
   },
   "file_extension": ".py",
   "mimetype": "text/x-python",
   "name": "python",
   "nbconvert_exporter": "python",
   "pygments_lexer": "ipython3",
   "version": "3.10.0"
  }
 },
 "nbformat": 4,
 "nbformat_minor": 5
}

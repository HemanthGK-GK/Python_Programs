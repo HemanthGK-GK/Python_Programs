{
 "cells": [
  {
   "cell_type": "code",
   "execution_count": 7,
   "id": "9fc8a1ef",
   "metadata": {},
   "outputs": [
    {
     "name": "stdout",
     "output_type": "stream",
     "text": [
      "Multiplication of matrix :\n",
      "[114, 160, 60]\n",
      "[74, 97, 73]\n",
      "[119, 157, 112]\n"
     ]
    }
   ],
   "source": [
    "#Write a program to multiply matrices\n",
    "# X = [[12,7,3],\n",
    "# [4 ,5,6],\n",
    "# [7 ,8,9]]\n",
    "# Y = [[5,8,1],\n",
    "# [6,7,3],\n",
    "# [4,5,9]]\n",
    "\n",
    "def matrixMultiplication( x, y):\n",
    "    # iterating by row of x\n",
    "    for i in range(len(x)):\n",
    "        # iterating by column of x \n",
    "        for j in range(len(y[0])):\n",
    "            # iterating by rows of y\n",
    "            for k in range(len(y)):\n",
    "                result[i][j] += x[i][k] * y[k][j] #multiply y with matrix\n",
    "    print(\"Multiplication of matrix :\")\n",
    "    for r in result:\n",
    "        print(r)\n",
    " #initialize matrix  \n",
    "X = [[12,7,3],\n",
    "    [4 ,5,6],\n",
    "    [7 ,8,9]]\n",
    "Y = [[5,8,1],\n",
    "    [6,7,3],\n",
    "    [4,5,9]]\n",
    "result = [[0, 0, 0],\n",
    "        [0, 0, 0],\n",
    "        [0, 0, 0]]\n",
    "matrixMultiplication(X,Y)#calling method\n"
   ]
  },
  {
   "cell_type": "code",
   "execution_count": null,
   "id": "9a472773",
   "metadata": {},
   "outputs": [],
   "source": []
  }
 ],
 "metadata": {
  "kernelspec": {
   "display_name": "Python 3 (ipykernel)",
   "language": "python",
   "name": "python3"
  },
  "language_info": {
   "codemirror_mode": {
    "name": "ipython",
    "version": 3
   },
   "file_extension": ".py",
   "mimetype": "text/x-python",
   "name": "python",
   "nbconvert_exporter": "python",
   "pygments_lexer": "ipython3",
   "version": "3.10.0"
  }
 },
 "nbformat": 4,
 "nbformat_minor": 5
}

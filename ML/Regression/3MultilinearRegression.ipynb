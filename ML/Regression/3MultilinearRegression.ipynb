{
 "cells": [
  {
   "cell_type": "code",
   "execution_count": 2,
   "id": "f3bc172e",
   "metadata": {},
   "outputs": [],
   "source": [
    "# Build a predictive linear regression model for given dataset, given temperature,\n",
    "# humidity, wind speed , wind bearing, visibility, pressure predict apparent temperature\n",
    "\n",
    "import pandas as pd\n",
    "import numpy as np\n",
    "import matplotlib.pyplot as plt"
   ]
  },
  {
   "cell_type": "code",
   "execution_count": 32,
   "id": "8c527863",
   "metadata": {},
   "outputs": [
    {
     "data": {
      "text/html": [
       "<div>\n",
       "<style scoped>\n",
       "    .dataframe tbody tr th:only-of-type {\n",
       "        vertical-align: middle;\n",
       "    }\n",
       "\n",
       "    .dataframe tbody tr th {\n",
       "        vertical-align: top;\n",
       "    }\n",
       "\n",
       "    .dataframe thead th {\n",
       "        text-align: right;\n",
       "    }\n",
       "</style>\n",
       "<table border=\"1\" class=\"dataframe\">\n",
       "  <thead>\n",
       "    <tr style=\"text-align: right;\">\n",
       "      <th></th>\n",
       "      <th>Temperature (C)</th>\n",
       "      <th>Humidity</th>\n",
       "      <th>Wind Speed (km/h)</th>\n",
       "      <th>Wind Bearing (degrees)</th>\n",
       "      <th>Visibility (km)</th>\n",
       "      <th>Pressure (millibars)</th>\n",
       "      <th>Apparent Temperature (C)</th>\n",
       "    </tr>\n",
       "  </thead>\n",
       "  <tbody>\n",
       "    <tr>\n",
       "      <th>0</th>\n",
       "      <td>9.472222</td>\n",
       "      <td>0.89</td>\n",
       "      <td>14.1197</td>\n",
       "      <td>251.0</td>\n",
       "      <td>15.8263</td>\n",
       "      <td>1015.13</td>\n",
       "      <td>7.388889</td>\n",
       "    </tr>\n",
       "    <tr>\n",
       "      <th>1</th>\n",
       "      <td>9.355556</td>\n",
       "      <td>0.86</td>\n",
       "      <td>14.2646</td>\n",
       "      <td>259.0</td>\n",
       "      <td>15.8263</td>\n",
       "      <td>1015.63</td>\n",
       "      <td>7.227778</td>\n",
       "    </tr>\n",
       "    <tr>\n",
       "      <th>2</th>\n",
       "      <td>9.377778</td>\n",
       "      <td>0.89</td>\n",
       "      <td>3.9284</td>\n",
       "      <td>204.0</td>\n",
       "      <td>14.9569</td>\n",
       "      <td>1015.94</td>\n",
       "      <td>9.377778</td>\n",
       "    </tr>\n",
       "    <tr>\n",
       "      <th>3</th>\n",
       "      <td>8.288889</td>\n",
       "      <td>0.83</td>\n",
       "      <td>14.1036</td>\n",
       "      <td>269.0</td>\n",
       "      <td>15.8263</td>\n",
       "      <td>1016.41</td>\n",
       "      <td>5.944444</td>\n",
       "    </tr>\n",
       "    <tr>\n",
       "      <th>4</th>\n",
       "      <td>8.755556</td>\n",
       "      <td>0.83</td>\n",
       "      <td>11.0446</td>\n",
       "      <td>259.0</td>\n",
       "      <td>15.8263</td>\n",
       "      <td>1016.51</td>\n",
       "      <td>6.977778</td>\n",
       "    </tr>\n",
       "    <tr>\n",
       "      <th>...</th>\n",
       "      <td>...</td>\n",
       "      <td>...</td>\n",
       "      <td>...</td>\n",
       "      <td>...</td>\n",
       "      <td>...</td>\n",
       "      <td>...</td>\n",
       "      <td>...</td>\n",
       "    </tr>\n",
       "    <tr>\n",
       "      <th>96448</th>\n",
       "      <td>26.016667</td>\n",
       "      <td>0.43</td>\n",
       "      <td>10.9963</td>\n",
       "      <td>31.0</td>\n",
       "      <td>16.1000</td>\n",
       "      <td>1014.36</td>\n",
       "      <td>26.016667</td>\n",
       "    </tr>\n",
       "    <tr>\n",
       "      <th>96449</th>\n",
       "      <td>24.583333</td>\n",
       "      <td>0.48</td>\n",
       "      <td>10.0947</td>\n",
       "      <td>20.0</td>\n",
       "      <td>15.5526</td>\n",
       "      <td>1015.16</td>\n",
       "      <td>24.583333</td>\n",
       "    </tr>\n",
       "    <tr>\n",
       "      <th>96450</th>\n",
       "      <td>22.038889</td>\n",
       "      <td>0.56</td>\n",
       "      <td>8.9838</td>\n",
       "      <td>30.0</td>\n",
       "      <td>16.1000</td>\n",
       "      <td>1015.66</td>\n",
       "      <td>22.038889</td>\n",
       "    </tr>\n",
       "    <tr>\n",
       "      <th>96451</th>\n",
       "      <td>21.522222</td>\n",
       "      <td>0.60</td>\n",
       "      <td>10.5294</td>\n",
       "      <td>20.0</td>\n",
       "      <td>16.1000</td>\n",
       "      <td>1015.95</td>\n",
       "      <td>21.522222</td>\n",
       "    </tr>\n",
       "    <tr>\n",
       "      <th>96452</th>\n",
       "      <td>20.438889</td>\n",
       "      <td>0.61</td>\n",
       "      <td>5.8765</td>\n",
       "      <td>39.0</td>\n",
       "      <td>15.5204</td>\n",
       "      <td>1016.16</td>\n",
       "      <td>20.438889</td>\n",
       "    </tr>\n",
       "  </tbody>\n",
       "</table>\n",
       "<p>96453 rows × 7 columns</p>\n",
       "</div>"
      ],
      "text/plain": [
       "       Temperature (C)  Humidity  Wind Speed (km/h)  Wind Bearing (degrees)  \\\n",
       "0             9.472222      0.89            14.1197                   251.0   \n",
       "1             9.355556      0.86            14.2646                   259.0   \n",
       "2             9.377778      0.89             3.9284                   204.0   \n",
       "3             8.288889      0.83            14.1036                   269.0   \n",
       "4             8.755556      0.83            11.0446                   259.0   \n",
       "...                ...       ...                ...                     ...   \n",
       "96448        26.016667      0.43            10.9963                    31.0   \n",
       "96449        24.583333      0.48            10.0947                    20.0   \n",
       "96450        22.038889      0.56             8.9838                    30.0   \n",
       "96451        21.522222      0.60            10.5294                    20.0   \n",
       "96452        20.438889      0.61             5.8765                    39.0   \n",
       "\n",
       "       Visibility (km)  Pressure (millibars)  Apparent Temperature (C)  \n",
       "0              15.8263               1015.13                  7.388889  \n",
       "1              15.8263               1015.63                  7.227778  \n",
       "2              14.9569               1015.94                  9.377778  \n",
       "3              15.8263               1016.41                  5.944444  \n",
       "4              15.8263               1016.51                  6.977778  \n",
       "...                ...                   ...                       ...  \n",
       "96448          16.1000               1014.36                 26.016667  \n",
       "96449          15.5526               1015.16                 24.583333  \n",
       "96450          16.1000               1015.66                 22.038889  \n",
       "96451          16.1000               1015.95                 21.522222  \n",
       "96452          15.5204               1016.16                 20.438889  \n",
       "\n",
       "[96453 rows x 7 columns]"
      ]
     },
     "execution_count": 32,
     "metadata": {},
     "output_type": "execute_result"
    }
   ],
   "source": [
    "data = pd.read_csv('weatherHistory.csv')\n",
    "dataset = data[['Temperature (C)','Humidity','Wind Speed (km/h)','Wind Bearing (degrees)','Visibility (km)','Pressure (millibars)','Apparent Temperature (C)']]\n",
    "dataset"
   ]
  },
  {
   "cell_type": "code",
   "execution_count": 39,
   "id": "b867c576",
   "metadata": {},
   "outputs": [],
   "source": [
    "x1= (dataset.iloc[:,0] - dataset.iloc[:,0].mean())/dataset.iloc[:,0].std()\n",
    "x2= (dataset.iloc[:,1] - dataset.iloc[:,1].mean())/dataset.iloc[:,1].std()\n",
    "x3= (dataset.iloc[:,2] - dataset.iloc[:,2].mean())/dataset.iloc[:,2].std()\n",
    "x4= (dataset.iloc[:,3] - dataset.iloc[:,3].mean())/dataset.iloc[:,3].std()\n",
    "x5= (dataset.iloc[:,4] - dataset.iloc[:,4].mean())/dataset.iloc[:,4].std()\n",
    "x6= (dataset.iloc[:,5] - dataset.iloc[:,5].mean())/dataset.iloc[:,5].std()"
   ]
  },
  {
   "cell_type": "code",
   "execution_count": 42,
   "id": "f4935c20",
   "metadata": {},
   "outputs": [
    {
     "data": {
      "text/plain": [
       "array([[-0.25759768,  0.79346631,  0.47863251,  0.59125294,  1.306969  ,\n",
       "         0.10168465],\n",
       "       [-0.26981211,  0.63999223,  0.49959129,  0.66575233,  1.306969  ,\n",
       "         0.10595926],\n",
       "       [-0.26748555,  0.79346631, -0.99546821,  0.15356902,  1.09958006,\n",
       "         0.10860951],\n",
       "       ...,\n",
       "       [ 1.05807061, -0.89474863, -0.26423973, -1.46679273,  1.37225812,\n",
       "         0.10621573],\n",
       "       [ 1.00397815, -0.69011652, -0.04067943, -1.55991697,  1.37225812,\n",
       "         0.108695  ],\n",
       "       [ 0.89055847, -0.63895849, -0.71368908, -1.38298092,  1.23399882,\n",
       "         0.11049034]])"
      ]
     },
     "execution_count": 42,
     "metadata": {},
     "output_type": "execute_result"
    }
   ],
   "source": [
    "X=pd.concat([x1, x2,x3,x4,x5,x6], axis=1)\n",
    "X=np.array(X)\n",
    "X\n"
   ]
  },
  {
   "cell_type": "code",
   "execution_count": 46,
   "id": "2e4a3ff4",
   "metadata": {},
   "outputs": [],
   "source": [
    "Y = dataset.iloc[:,-1].values"
   ]
  },
  {
   "cell_type": "code",
   "execution_count": 47,
   "id": "ae4541b5",
   "metadata": {},
   "outputs": [],
   "source": [
    "train_index = int(0.6 * len(X))\n",
    "X_train, X_test = X[:train_index], X[train_index:]\n",
    "Y_train, Y_test = Y[:train_index], Y[train_index:]"
   ]
  },
  {
   "cell_type": "code",
   "execution_count": 48,
   "id": "a768087d",
   "metadata": {},
   "outputs": [
    {
     "name": "stdout",
     "output_type": "stream",
     "text": [
      "(57871, 6) (38582, 6)\n"
     ]
    }
   ],
   "source": [
    "print(X_train.shape,X_test.shape)"
   ]
  },
  {
   "cell_type": "code",
   "execution_count": 49,
   "id": "89c07ef1",
   "metadata": {},
   "outputs": [
    {
     "name": "stdout",
     "output_type": "stream",
     "text": [
      "(57871,) (38582,)\n"
     ]
    }
   ],
   "source": [
    "print(Y_train.shape,Y_test.shape)"
   ]
  },
  {
   "cell_type": "code",
   "execution_count": 50,
   "id": "a2141f5d",
   "metadata": {},
   "outputs": [],
   "source": [
    "def CostFunction(x,y,w,b):\n",
    "    cost = np.sum((((x.dot(w) + b) - y) ** 2) / (2*len(y)))\n",
    "    return cost\n",
    "\n",
    "def GradientDescent(x, y, w, b, learning_rate, epochs):\n",
    "    cost_list = [0] * epochs\n",
    "   \n",
    "    for epoch in range(epochs):\n",
    "        z = x.dot(w) + b\n",
    "        loss = z - y\n",
    "        \n",
    "        weight_gradient = x.T.dot(loss) / len(y)\n",
    "        bias_gradient = np.sum(loss) / len(y)\n",
    "        \n",
    "        w = w - learning_rate*weight_gradient\n",
    "        b = b - learning_rate*bias_gradient\n",
    "  \n",
    "        cost = CostFunction(x, y, w, b)\n",
    "        cost_list[epoch] = cost\n",
    "        \n",
    "        if (epoch%(epochs/10)==0):\n",
    "            print(\"Cost is:\",cost)\n",
    "        \n",
    "    return w, b, cost_list"
   ]
  },
  {
   "cell_type": "code",
   "execution_count": 55,
   "id": "2a62bf60",
   "metadata": {},
   "outputs": [
    {
     "name": "stdout",
     "output_type": "stream",
     "text": [
      "Cost is: 117.75317450972486\n",
      "Cost is: 4.327094111206947\n",
      "Cost is: 1.2992565930474533\n",
      "Cost is: 0.7948807274886333\n",
      "Cost is: 0.6661157463612088\n",
      "Cost is: 0.6319734159916532\n",
      "Cost is: 0.622893082615299\n",
      "Cost is: 0.6204772961020693\n",
      "Cost is: 0.6198345437605082\n",
      "Cost is: 0.6196635278855512\n"
     ]
    }
   ],
   "source": [
    "w, b, c= GradientDescent(X_train, Y_train, np.zeros(X_train.shape[1]), 0, 0.001,epochs=20000)"
   ]
  },
  {
   "cell_type": "code",
   "execution_count": 56,
   "id": "ada0ee6e",
   "metadata": {},
   "outputs": [
    {
     "data": {
      "text/plain": [
       "[<matplotlib.lines.Line2D at 0x254e30f3ca0>]"
      ]
     },
     "execution_count": 56,
     "metadata": {},
     "output_type": "execute_result"
    },
    {
     "data": {
      "image/png": "[encoded data removed]",
      "text/plain": [
       "<Figure size 432x288 with 1 Axes>"
      ]
     },
     "metadata": {
      "needs_background": "light"
     },
     "output_type": "display_data"
    }
   ],
   "source": [
    "plt.plot(c)"
   ]
  },
  {
   "cell_type": "code",
   "execution_count": 57,
   "id": "d0deb41d",
   "metadata": {},
   "outputs": [
    {
     "data": {
      "text/plain": [
       "array([ 2.05333382,  2.57828602,  5.20006274, ..., 22.15231116,\n",
       "       21.44662056, 20.73197885])"
      ]
     },
     "execution_count": 57,
     "metadata": {},
     "output_type": "execute_result"
    }
   ],
   "source": [
    "def predict(X, w, b):\n",
    "    return X.dot(w) + b\n",
    "y_pred = predict(X_test, w, b)\n",
    "y_pred"
   ]
  },
  {
   "cell_type": "code",
   "execution_count": 58,
   "id": "f82cb97f",
   "metadata": {},
   "outputs": [
    {
     "data": {
      "text/plain": [
       "0.9893264963364536"
      ]
     },
     "execution_count": 58,
     "metadata": {},
     "output_type": "execute_result"
    }
   ],
   "source": [
    "def r2score(y_pred, y):\n",
    "    rss = np.sum((y_pred - y) ** 2)\n",
    "    mss = np.sum((y-y.mean()) ** 2)\n",
    "    \n",
    "    r2 = 1 - (rss / mss)\n",
    "    return r2\n",
    "r2score(y_pred, Y_test)"
   ]
  },
  {
   "cell_type": "code",
   "execution_count": 59,
   "id": "af12b4dc",
   "metadata": {},
   "outputs": [
    {
     "data": {
      "text/plain": [
       "1.0285853872632884"
      ]
     },
     "execution_count": 59,
     "metadata": {},
     "output_type": "execute_result"
    }
   ],
   "source": [
    "def rmse(y_pred, y):\n",
    "    rmse = (((y - y_pred)**2).mean())**(1/2)\n",
    "    return rmse\n",
    "rmse(y_pred, Y_test)"
   ]
  },
  {
   "cell_type": "code",
   "execution_count": null,
   "id": "f765ffb1",
   "metadata": {},
   "outputs": [],
   "source": []
  }
 ],
 "metadata": {
  "kernelspec": {
   "display_name": "Python 3 (ipykernel)",
   "language": "python",
   "name": "python3"
  },
  "language_info": {
   "codemirror_mode": {
    "name": "ipython",
    "version": 3
   },
   "file_extension": ".py",
   "mimetype": "text/x-python",
   "name": "python",
   "nbconvert_exporter": "python",
   "pygments_lexer": "ipython3",
   "version": "3.9.9"
  }
 },
 "nbformat": 4,
 "nbformat_minor": 5
}
